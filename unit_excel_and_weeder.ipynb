{
 "cells": [
  {
   "cell_type": "code",
   "execution_count": null,
   "metadata": {
    "collapsed": true
   },
   "outputs": [],
   "source": [
    "#!/usr/bin/env python3\n",
    "\n",
    "# combine excel and modified weeder result by the same ID (gene symbol)\n",
    "\n",
    "import sys\n",
    "import re\n",
    "\n",
    "input_motif_file = open('./siPUM1_up/siPUM1_up_motif_infor2.txt', 'r')\n",
    "input_excel_file = open('siStealth_compatible_genes_RefSeq_result_mRNA.fpkm_table', 'r')\n",
    "output_file = open('./siPUM1_up/siPUM1_up_motif_infor_merged2.txt', 'w')\n",
    "\n",
    "motif_infor_dict = {}\n",
    "count = 0\n",
    "\n",
    "# input motif: [gene <tab> motif sequence <tab> its position]\n",
    "for line in input_motif_file:\n",
    "\tline = line.rstrip()\n",
    "\tdata = line.split(\"\\t\")\n",
    "\tif data[0] == 'gene_symbol':\n",
    "\t\tcontinue\n",
    "\tgene_name = data[0]\n",
    "\tmotif = data[1]\n",
    "\tpos = data[2]\n",
    "\n",
    "\tmotif_infor_dict[gene_name] = [motif,pos]\n",
    "\tcount += 1\n",
    "print(count)\n",
    "\n",
    "# input excel: extract first 4 columns. \n",
    "count2 = 0\n",
    "for line in input_excel_file:\n",
    "\tline = line.rstrip()\n",
    "\tdata = line.split(\"\\t\")\n",
    "\tif data[0] == 'gr_id':\n",
    "\t\tprint(\"\\t\".join(data[0:4]),\"motifs\",\"position\", sep=\"\\t\",end=\"\\n\",file=output_file)\n",
    "\t\tcontinue\n",
    "\n",
    "\tgene_name = data[1]\n",
    "\tif gene_name in motif_infor_dict:\n",
    "\t\tmotif_line = motif_infor_dict[gene_name][0]\n",
    "\t\tpos_line = motif_infor_dict[gene_name][1]\n",
    "\t\tcount2 += 1\n",
    "\t\tprint(\"\\t\".join(data[0:4]),motif_line,pos_line, sep=\"\\t\",end=\"\\n\",file=output_file)\n",
    "\telse:\n",
    "\t\tmotif_line = 'NA'\n",
    "\t\tpos_line = \"NA\"\n",
    "\t\tprint(\"\\t\".join(data[0:4]),motif_line,pos_line, sep=\"\\t\",end=\"\\n\",file=output_file)\n",
    "\n",
    "print(count2)"
   ]
  }
 ],
 "metadata": {
  "kernelspec": {
   "display_name": "Python 2",
   "language": "python",
   "name": "python2"
  },
  "language_info": {
   "codemirror_mode": {
    "name": "ipython",
    "version": 2
   },
   "file_extension": ".py",
   "mimetype": "text/x-python",
   "name": "python",
   "nbconvert_exporter": "python",
   "pygments_lexer": "ipython2",
   "version": "2.7.10"
  }
 },
 "nbformat": 4,
 "nbformat_minor": 0
}
