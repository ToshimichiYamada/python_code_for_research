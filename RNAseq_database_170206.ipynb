{
 "cells": [
  {
   "cell_type": "markdown",
   "metadata": {},
   "source": [
    "This code is used for analysis the RNA-seq data base related with stimulus"
   ]
  },
  {
   "cell_type": "code",
   "execution_count": 4,
   "metadata": {
    "collapsed": false
   },
   "outputs": [],
   "source": [
    "# import the txt data to pandas\n",
    "import pandas as pd\n",
    "\n",
    "data = pd.read_table(\"C:/research/Akimitsu_lab/RNAseq_database/RNA_seq_results/29/No0.txt\")"
   ]
  },
  {
   "cell_type": "code",
   "execution_count": 6,
   "metadata": {
    "collapsed": false
   },
   "outputs": [],
   "source": [
    "data_ex = data[data[\"value_1\"] >1]"
   ]
  },
  {
   "cell_type": "code",
   "execution_count": 17,
   "metadata": {
    "collapsed": false
   },
   "outputs": [
    {
     "data": {
      "text/html": [
       "<div>\n",
       "<table border=\"1\" class=\"dataframe\">\n",
       "  <thead>\n",
       "    <tr style=\"text-align: right;\">\n",
       "      <th></th>\n",
       "      <th>gr_id</th>\n",
       "      <th>gene_id</th>\n",
       "      <th>gene_symbol</th>\n",
       "      <th>AkimitsuLab_gene_type</th>\n",
       "      <th>Gencode_gene_type</th>\n",
       "      <th>sample_1</th>\n",
       "      <th>sample_2</th>\n",
       "      <th>status</th>\n",
       "      <th>value_1</th>\n",
       "      <th>value_2</th>\n",
       "      <th>log2(fold_change)</th>\n",
       "      <th>test_stat</th>\n",
       "      <th>p_value</th>\n",
       "      <th>q_value</th>\n",
       "      <th>significant</th>\n",
       "    </tr>\n",
       "  </thead>\n",
       "  <tbody>\n",
       "    <tr>\n",
       "      <th>0</th>\n",
       "      <td>1</td>\n",
       "      <td>ENSG00000000003.10</td>\n",
       "      <td>TSPAN6</td>\n",
       "      <td>mRNA</td>\n",
       "      <td>protein_coding</td>\n",
       "      <td>q1</td>\n",
       "      <td>q2</td>\n",
       "      <td>OK</td>\n",
       "      <td>65.92400</td>\n",
       "      <td>54.86170</td>\n",
       "      <td>-0.265006</td>\n",
       "      <td>-0.617704</td>\n",
       "      <td>0.51505</td>\n",
       "      <td>0.999397</td>\n",
       "      <td>no</td>\n",
       "    </tr>\n",
       "    <tr>\n",
       "      <th>1</th>\n",
       "      <td>2</td>\n",
       "      <td>ENSG00000000005.5</td>\n",
       "      <td>TNMD</td>\n",
       "      <td>mRNA</td>\n",
       "      <td>protein_coding</td>\n",
       "      <td>q1</td>\n",
       "      <td>q2</td>\n",
       "      <td>OK</td>\n",
       "      <td>3.50910</td>\n",
       "      <td>5.87361</td>\n",
       "      <td>0.743149</td>\n",
       "      <td>0.889841</td>\n",
       "      <td>0.34730</td>\n",
       "      <td>0.999397</td>\n",
       "      <td>no</td>\n",
       "    </tr>\n",
       "    <tr>\n",
       "      <th>2</th>\n",
       "      <td>3</td>\n",
       "      <td>ENSG00000000419.8</td>\n",
       "      <td>DPM1</td>\n",
       "      <td>mRNA</td>\n",
       "      <td>protein_coding</td>\n",
       "      <td>q1</td>\n",
       "      <td>q2</td>\n",
       "      <td>OK</td>\n",
       "      <td>24.06190</td>\n",
       "      <td>32.36540</td>\n",
       "      <td>0.427704</td>\n",
       "      <td>0.344334</td>\n",
       "      <td>0.69405</td>\n",
       "      <td>0.999397</td>\n",
       "      <td>no</td>\n",
       "    </tr>\n",
       "    <tr>\n",
       "      <th>3</th>\n",
       "      <td>4</td>\n",
       "      <td>ENSG00000000457.9</td>\n",
       "      <td>SCYL3</td>\n",
       "      <td>mRNA</td>\n",
       "      <td>protein_coding</td>\n",
       "      <td>q1</td>\n",
       "      <td>q2</td>\n",
       "      <td>OK</td>\n",
       "      <td>1.94591</td>\n",
       "      <td>2.15004</td>\n",
       "      <td>0.143922</td>\n",
       "      <td>0.113551</td>\n",
       "      <td>0.90710</td>\n",
       "      <td>0.999397</td>\n",
       "      <td>no</td>\n",
       "    </tr>\n",
       "    <tr>\n",
       "      <th>4</th>\n",
       "      <td>5</td>\n",
       "      <td>ENSG00000000460.12</td>\n",
       "      <td>C1orf112</td>\n",
       "      <td>mRNA</td>\n",
       "      <td>protein_coding</td>\n",
       "      <td>q1</td>\n",
       "      <td>q2</td>\n",
       "      <td>OK</td>\n",
       "      <td>8.10844</td>\n",
       "      <td>8.00190</td>\n",
       "      <td>-0.019081</td>\n",
       "      <td>-0.017959</td>\n",
       "      <td>0.98335</td>\n",
       "      <td>0.999397</td>\n",
       "      <td>no</td>\n",
       "    </tr>\n",
       "  </tbody>\n",
       "</table>\n",
       "</div>"
      ],
      "text/plain": [
       "   gr_id             gene_id gene_symbol AkimitsuLab_gene_type  \\\n",
       "0      1  ENSG00000000003.10      TSPAN6                  mRNA   \n",
       "1      2   ENSG00000000005.5        TNMD                  mRNA   \n",
       "2      3   ENSG00000000419.8        DPM1                  mRNA   \n",
       "3      4   ENSG00000000457.9       SCYL3                  mRNA   \n",
       "4      5  ENSG00000000460.12    C1orf112                  mRNA   \n",
       "\n",
       "  Gencode_gene_type sample_1 sample_2 status   value_1   value_2  \\\n",
       "0    protein_coding       q1       q2     OK  65.92400  54.86170   \n",
       "1    protein_coding       q1       q2     OK   3.50910   5.87361   \n",
       "2    protein_coding       q1       q2     OK  24.06190  32.36540   \n",
       "3    protein_coding       q1       q2     OK   1.94591   2.15004   \n",
       "4    protein_coding       q1       q2     OK   8.10844   8.00190   \n",
       "\n",
       "   log2(fold_change)  test_stat  p_value   q_value significant  \n",
       "0          -0.265006  -0.617704  0.51505  0.999397          no  \n",
       "1           0.743149   0.889841  0.34730  0.999397          no  \n",
       "2           0.427704   0.344334  0.69405  0.999397          no  \n",
       "3           0.143922   0.113551  0.90710  0.999397          no  \n",
       "4          -0.019081  -0.017959  0.98335  0.999397          no  "
      ]
     },
     "execution_count": 17,
     "metadata": {},
     "output_type": "execute_result"
    }
   ],
   "source": [
    "data.head(5)"
   ]
  },
  {
   "cell_type": "code",
   "execution_count": 40,
   "metadata": {
    "collapsed": false
   },
   "outputs": [],
   "source": [
    "PUM1 = data.iloc[6890, [2,8,9,10,13]]"
   ]
  },
  {
   "cell_type": "markdown",
   "metadata": {},
   "source": [
    "PUM1 target gene set\n",
    "8414\tARF1\n",
    "1283\tARHGEF10L\n",
    "6732\tATP13A3\n",
    "734 \tATP9A\n",
    "16022\tB3GALTL\n",
    "11349\tBRI3\n",
    "8447\tCALM2\n",
    "2766\tCD24\n",
    "5409\tCKS2\n",
    "12680\tCMTM8\n",
    "4294\tCSPG5\n",
    "15771\tCYP4X1\n",
    "19236\tEFNA3\n",
    "1059\tERLEC1\n",
    "19245\tFOXD1\n",
    "15017\tGAS6\n",
    "4383\tGCA\n",
    "6030\tHERC2\n",
    "271 \tHFE\n",
    "11634\tISCA2\n",
    "7150\tISCU\n",
    "12214\tLMBRD1\n",
    "1356\tMCAM\n",
    "3345\tMEGF9\n",
    "4836\tMFSD1\n",
    "13381\tNAA20\n",
    "638 \tNOP16\n",
    "7346\tNOV\n",
    "9952\tNPTN\n",
    "6587\tPCNA\n",
    "11093\tPOLR2H\n",
    "8956\tPOLR2K\n",
    "2583\tPRPS2\n",
    "6591\tPTPRA\n",
    "15501\tRAB11B\n",
    "1045\tREEP1\n",
    "1156\tSEL1L\n",
    "4478\tSLC25A12\n",
    "17176\tSLC9A6\n",
    "3555\tSYNGR2\n",
    "5389\tTNFAIP6\n",
    "15866\tTRABD2A\n",
    "16599\tTRAPPC4\n",
    "1398\tUBE2A\n",
    "4855\tUBE2B\n",
    "648 \tVPS13D\n",
    "11597\tZMYND19"
   ]
  },
  {
   "cell_type": "code",
   "execution_count": 41,
   "metadata": {
    "collapsed": false
   },
   "outputs": [],
   "source": [
    "target = data.iloc[[8413, 1282, 6731, 733, 16021, 11348, 8446, 5408, 12679, 4293, 15770, 19235, 1058, 19244, 15016, 4382, 6029, 270, 11633, 7149, 12213, 1355, 3344, 4835, 13380, 637, 7345, 9951, 6586, 11092, 8955, 2582, 6590, 15500, 1044, 1155, 4477, 17175, 3554, 5388, 15865, 16598, 1397, 4854, 647, 11596], [2,8,9,10,13]]"
   ]
  },
  {
   "cell_type": "code",
   "execution_count": 42,
   "metadata": {
    "collapsed": true
   },
   "outputs": [],
   "source": [
    "target_ex = target[target[\"value_1\"] > 1]"
   ]
  },
  {
   "cell_type": "code",
   "execution_count": 43,
   "metadata": {
    "collapsed": false
   },
   "outputs": [
    {
     "data": {
      "text/plain": [
       "-0.13997099999999998"
      ]
     },
     "execution_count": 43,
     "metadata": {},
     "output_type": "execute_result"
    }
   ],
   "source": [
    "target_ex[\"log2(fold_change)\"].median()"
   ]
  },
  {
   "cell_type": "code",
   "execution_count": 44,
   "metadata": {
    "collapsed": true
   },
   "outputs": [],
   "source": [
    "import glob"
   ]
  },
  {
   "cell_type": "code",
   "execution_count": 47,
   "metadata": {
    "collapsed": true
   },
   "outputs": [],
   "source": [
    "f29 = glob.glob(\"C:/research/Akimitsu_lab/RNAseq_database/RNA_seq_results/29/*.txt\")"
   ]
  },
  {
   "cell_type": "code",
   "execution_count": 48,
   "metadata": {
    "collapsed": false
   },
   "outputs": [
    {
     "data": {
      "text/plain": [
       "['C:/research/Akimitsu_lab/RNAseq_database/RNA_seq_results/29\\\\No0.txt',\n",
       " 'C:/research/Akimitsu_lab/RNAseq_database/RNA_seq_results/29\\\\No1.txt',\n",
       " 'C:/research/Akimitsu_lab/RNAseq_database/RNA_seq_results/29\\\\No2.txt',\n",
       " 'C:/research/Akimitsu_lab/RNAseq_database/RNA_seq_results/29\\\\No3.txt']"
      ]
     },
     "execution_count": 48,
     "metadata": {},
     "output_type": "execute_result"
    }
   ],
   "source": [
    "f29"
   ]
  },
  {
   "cell_type": "code",
   "execution_count": 70,
   "metadata": {
    "collapsed": true
   },
   "outputs": [],
   "source": [
    "data = []\n",
    "\n",
    "for txt in f29:\n",
    "    df = pd.read_table(txt)\n",
    "    PUM1 = df.iloc[6890, [2,8,9,10,13]]\n",
    "    data.append(PUM1)"
   ]
  },
  {
   "cell_type": "code",
   "execution_count": 71,
   "metadata": {
    "collapsed": false
   },
   "outputs": [
    {
     "data": {
      "text/plain": [
       "[gene_symbol              PUM1\n",
       " value_1               38.0692\n",
       " value_2                43.158\n",
       " log2(fold_change)    0.181002\n",
       " q_value              0.999397\n",
       " Name: 6890, dtype: object, gene_symbol              PUM1\n",
       " value_1                37.172\n",
       " value_2               44.6481\n",
       " log2(fold_change)    0.264383\n",
       " q_value               0.99965\n",
       " Name: 6890, dtype: object, gene_symbol               PUM1\n",
       " value_1                39.4962\n",
       " value_2                41.6742\n",
       " log2(fold_change)    0.0774405\n",
       " q_value               0.999497\n",
       " Name: 6890, dtype: object, gene_symbol               PUM1\n",
       " value_1                 39.212\n",
       " value_2                41.8361\n",
       " log2(fold_change)    0.0934506\n",
       " q_value               0.999537\n",
       " Name: 6890, dtype: object]"
      ]
     },
     "execution_count": 71,
     "metadata": {},
     "output_type": "execute_result"
    }
   ],
   "source": [
    "data"
   ]
  },
  {
   "cell_type": "code",
   "execution_count": 72,
   "metadata": {
    "collapsed": false
   },
   "outputs": [],
   "source": [
    "f = glob.glob(\"C:/research/Akimitsu_lab/RNAseq_database/RNA_seq_results/*.txt\")"
   ]
  },
  {
   "cell_type": "code",
   "execution_count": 73,
   "metadata": {
    "collapsed": false
   },
   "outputs": [
    {
     "data": {
      "text/plain": [
       "[]"
      ]
     },
     "execution_count": 73,
     "metadata": {},
     "output_type": "execute_result"
    }
   ],
   "source": []
  },
  {
   "cell_type": "code",
   "execution_count": null,
   "metadata": {
    "collapsed": true
   },
   "outputs": [],
   "source": []
  }
 ],
 "metadata": {
  "kernelspec": {
   "display_name": "Python 2",
   "language": "python",
   "name": "python2"
  },
  "language_info": {
   "codemirror_mode": {
    "name": "ipython",
    "version": 2
   },
   "file_extension": ".py",
   "mimetype": "text/x-python",
   "name": "python",
   "nbconvert_exporter": "python",
   "pygments_lexer": "ipython2",
   "version": "2.7.10"
  }
 },
 "nbformat": 4,
 "nbformat_minor": 0
}
