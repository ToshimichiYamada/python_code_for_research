{
 "cells": [
  {
   "cell_type": "code",
   "execution_count": 1,
   "metadata": {
    "collapsed": true
   },
   "outputs": [],
   "source": [
    "datalist = [140, 162, 255, 301, 425, 672, 685, 1127, 1150, 1197, 1248, 1523, 1626, 1648, 1756, 1816, 2790, 2799, 2835, 2821, 1807, 1786, 1646, 1624, 1577, 1296, 1135 ,1074, 1039, 356, 352, 321, 287]"
   ]
  },
  {
   "cell_type": "code",
   "execution_count": 7,
   "metadata": {
    "collapsed": false
   },
   "outputs": [],
   "source": [
    "def getJenksBreaks(datalist, numclass):\n",
    "    \n",
    "    datalist.sort()\n",
    "    # fill the matrices with data+1 arrays of numclass 0s.\n",
    "    \n",
    "    # mat1 = lower_class_limits\n",
    "    # mat2 = variance_combinations\n",
    "    mat1 = []\n",
    "    mat2 = []\n",
    "    for i in range(0, len(datalist) + 1):\n",
    "        temp1 = []\n",
    "        temp2 = []\n",
    "        for j in range(0, numclass + 1):\n",
    "            temp1.append(0)\n",
    "            temp2.append(0)\n",
    "        mat1.append(temp1)\n",
    "        mat2.append(temp2)\n",
    "\n",
    "    for i in range(1, numclass + 1):\n",
    "        mat1[1][i] = 1\n",
    "        mat2[1][i] = 0\n",
    "        for j in range(2, len(datalist) + 1):\n",
    "            mat2[j][i] = float('inf')\n",
    "    \n",
    "    # define Jenks matrics\n",
    "    \n",
    "    # v = variance\n",
    "    v = 0.0\n",
    "    for l in range(2, len(datalist) + 1):\n",
    "        # s1 = sum, s2 = sum of squares\n",
    "        s1 = 0.0\n",
    "        s2 = 0.0\n",
    "        w = 0.0\n",
    "        for m in range(1, l + 1):\n",
    "            # i3 is lower class limit\n",
    "            i3 = l - m + 1\n",
    "            val = float(datalist[i3 - 1])\n",
    "            \n",
    "            # here, we estimate variance for each potential classing of the data, for each potential number of classes\n",
    "            # w is the number of data points considered so far\n",
    "            \n",
    "            s1 += val\n",
    "            s2 += val * val\n",
    "            w += 1\n",
    "            v = s2 - (s1 * s1)/w\n",
    "            \n",
    "            # i4 is lower class limit - 1\n",
    "            i4 = i3 - 1\n",
    "            if i4 != 0:\n",
    "                for j in range(2, numclass +1):\n",
    "                    if mat2[l][j] >= (v + mat2[i4][j - 1]):\n",
    "                        mat1[l][j] = i3\n",
    "                        mat2[l][j] = v + mat2[i4][j - 1]\n",
    "        mat1[l][1] = 1\n",
    "        mat2[l][1] = v\n",
    "    #print mat2\n",
    "    \n",
    "    # calculating Jenks break\n",
    "\n",
    "    k = len(datalist)\n",
    "    kclass = []\n",
    "    for i in range(0, numclass + 1):\n",
    "        kclass.append(0)\n",
    "    kclass[numclass] = float(datalist[len(datalist) - 1])\n",
    "    countNum = numclass\n",
    "\n",
    "    while countNum >=2:\n",
    "        id = int((mat1[k][countNum]) - 2)\n",
    "        kclass[countNum - 1] = datalist[id]\n",
    "        k = int((mat1[k][countNum] - 1))\n",
    "        countNum -= 1\n",
    "        print kclass\n",
    "    \n",
    "    return kclass    "
   ]
  },
  {
   "cell_type": "code",
   "execution_count": 8,
   "metadata": {
    "collapsed": true
   },
   "outputs": [],
   "source": [
    "# the goodness of variance fit (GVF) is calculated by taking the difference between the squared deviations from the array mean(SDAM)\n",
    "# and the squared deviations from the class means (SDCM) and dividing by the SDAM\n",
    "\n",
    "def getGVF(datalist, numclass):\n",
    "\n",
    "    breaks = getJenksBreaks(datalist, numclass)\n",
    "    datalist.sort()\n",
    "    listMean = sum(datalist)/len(datalist) \n",
    "    #print listMean \n",
    "\n",
    "    # calculate the sum of squared deviations from the array mean\n",
    "    SDAM = 0.0 \n",
    "    for i in range(0,len(datalist)): \n",
    "        sqDev = (datalist[i] - listMean)**2 \n",
    "        SDAM += sqDev \n",
    "\n",
    "    # calculate the sum of squared deviations between the class mean\n",
    "    SDCM = 0.0 \n",
    "    for i in range(0,numclass): \n",
    "        if breaks[i] == 0: \n",
    "            classStart = 0 \n",
    "        else:\n",
    "            classStart = datalist.index(breaks[i]) \n",
    "            classStart += 1 \n",
    "        classEnd = datalist.index(breaks[i+1]) \n",
    "        classList = datalist[classStart:classEnd+1]\n",
    "        if len(classList) != 0:\n",
    "            classMean = sum(classList)/len(classList) \n",
    "            #print classMean \n",
    "\n",
    "            preSDCM = 0.0 \n",
    "            for j in range(0,len(classList)): \n",
    "                sqDev2 = (classList[j] - classMean)**2 \n",
    "                preSDCM += sqDev2 \n",
    "            SDCM += preSDCM \n",
    "            \n",
    "    return (SDAM - SDCM)/SDAM \n",
    "    \n",
    "# written by Drew \n",
    "# used after running getJenksBreaks() \n",
    "def classify(value, breaks): \n",
    "    for i in range(1, len(breaks)): \n",
    "        if value < breaks[i]: \n",
    "            return i \n",
    "    return len(breaks) - 1 "
   ]
  },
  {
   "cell_type": "code",
   "execution_count": 9,
   "metadata": {
    "collapsed": false
   },
   "outputs": [
    {
     "name": "stdout",
     "output_type": "stream",
     "text": [
      "[0, 1296, 2835.0]\n",
      "[0, 0, 1816, 2835.0]\n",
      "[0, 685, 1816, 2835.0]\n",
      "[140, 162, 255, 287, 301, 321, 352, 356, 425, 672, 685, 1039, 1074, 1127, 1135, 1150, 1197, 1248, 1296, 1523, 1577, 1624, 1626, 1646, 1648, 1756, 1786, 1807, 1816, 2790, 2799, 2821, 2835]\n",
      "4 0.9195470614\n"
     ]
    }
   ],
   "source": [
    "gvf = 0.0\n",
    "numclass = 2\n",
    "while gvf < 0.8:\n",
    "    gvf = getGVF(datalist, numclass)\n",
    "    numclass +=1\n",
    "\n",
    "print datalist\n",
    "print numclass, gvf"
   ]
  },
  {
   "cell_type": "code",
   "execution_count": null,
   "metadata": {
    "collapsed": true
   },
   "outputs": [],
   "source": []
  }
 ],
 "metadata": {
  "kernelspec": {
   "display_name": "Python 2",
   "language": "python",
   "name": "python2"
  },
  "language_info": {
   "codemirror_mode": {
    "name": "ipython",
    "version": 2
   },
   "file_extension": ".py",
   "mimetype": "text/x-python",
   "name": "python",
   "nbconvert_exporter": "python",
   "pygments_lexer": "ipython2",
   "version": "2.7.10"
  }
 },
 "nbformat": 4,
 "nbformat_minor": 0
}
