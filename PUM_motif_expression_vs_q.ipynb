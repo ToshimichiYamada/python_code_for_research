{
 "cells": [
  {
   "cell_type": "code",
   "execution_count": 7,
   "metadata": {
    "collapsed": true
   },
   "outputs": [],
   "source": [
    "import xlrd \n",
    "import pandas\n",
    "from pandas import DataFrame, Series\n",
    "import matplotlib.pyplot as plt\n",
    "\n",
    "# import data from excel \n",
    "if __name__ == '__main__' :\n",
    "    book = xlrd.open_workbook ('C:/research/python/data/Bric_seq_160119.xlsx')\n",
    "    sheet1 = book.sheet_by_name('PUM1')\n",
    "    data1 = []\n",
    "    data1 = [[sheet1.cell_value(r, col)\n",
    "                for col in range(sheet1.ncols)]\n",
    "                    for r in range(sheet1.nrows)]\n",
    "\n",
    "# numbers are registered as numbers, while leaving the strings alone\n",
    "for i in range (len (data1)):\n",
    "    for j in range(len(data1[0])):\n",
    "        try:\n",
    "            data1[i][j] = float (data1[i][j])\n",
    "        except:\n",
    "            pass\n",
    "\n",
    "# Wrap the data in a pandas DataFrame\n",
    "df = DataFrame(data1[1:], columns = data1[0])"
   ]
  },
  {
   "cell_type": "code",
   "execution_count": 8,
   "metadata": {
    "collapsed": false
   },
   "outputs": [
    {
     "data": {
      "text/html": [
       "<div>\n",
       "<table border=\"1\" class=\"dataframe\">\n",
       "  <thead>\n",
       "    <tr style=\"text-align: right;\">\n",
       "      <th></th>\n",
       "      <th>symbol</th>\n",
       "      <th>status</th>\n",
       "      <th>RPKM_siSte</th>\n",
       "      <th>RPKM_siPUM1</th>\n",
       "      <th>log2(fold_change)</th>\n",
       "      <th>p_value</th>\n",
       "      <th>q_value</th>\n",
       "      <th>T0_con</th>\n",
       "      <th>T1_ con</th>\n",
       "      <th>T2_cpn</th>\n",
       "      <th>...</th>\n",
       "      <th>half_life_siPUM1</th>\n",
       "      <th>log2(Relative half-life[siPUM1/siStealth])</th>\n",
       "      <th>p-value(Welch Modified Two-Sample t-test)</th>\n",
       "      <th>3UTR_length</th>\n",
       "      <th>PUM_motif</th>\n",
       "      <th>HalfLife_siStealth_PUM1_study</th>\n",
       "      <th>HalfLife_siCTRL_PUM2_study</th>\n",
       "      <th>HalfLife_siCTRL_PUM1_2_study</th>\n",
       "      <th>HalfLife_siPUM1_PUM1_study</th>\n",
       "      <th>P-value(Grubbs test)</th>\n",
       "    </tr>\n",
       "  </thead>\n",
       "  <tbody>\n",
       "    <tr>\n",
       "      <th>0</th>\n",
       "      <td>A1BG</td>\n",
       "      <td>NOTEST</td>\n",
       "      <td>0.011698</td>\n",
       "      <td>0.022679</td>\n",
       "      <td>0.955057</td>\n",
       "      <td>1</td>\n",
       "      <td>1</td>\n",
       "      <td>0</td>\n",
       "      <td>0</td>\n",
       "      <td>0</td>\n",
       "      <td>...</td>\n",
       "      <td>NaN</td>\n",
       "      <td>NaN</td>\n",
       "      <td>NaN</td>\n",
       "      <td>216</td>\n",
       "      <td>0</td>\n",
       "      <td>NaN</td>\n",
       "      <td>NaN</td>\n",
       "      <td>NaN</td>\n",
       "      <td>NaN</td>\n",
       "      <td>NaN</td>\n",
       "    </tr>\n",
       "    <tr>\n",
       "      <th>1</th>\n",
       "      <td>A1CF</td>\n",
       "      <td>NOTEST</td>\n",
       "      <td>0.048423</td>\n",
       "      <td>0.057783</td>\n",
       "      <td>0.254932</td>\n",
       "      <td>1</td>\n",
       "      <td>1</td>\n",
       "      <td>1</td>\n",
       "      <td>0</td>\n",
       "      <td>0</td>\n",
       "      <td>...</td>\n",
       "      <td>NaN</td>\n",
       "      <td>NaN</td>\n",
       "      <td>NaN</td>\n",
       "      <td>7320</td>\n",
       "      <td>3</td>\n",
       "      <td>NaN</td>\n",
       "      <td>NaN</td>\n",
       "      <td>NaN</td>\n",
       "      <td>NaN</td>\n",
       "      <td>NaN</td>\n",
       "    </tr>\n",
       "    <tr>\n",
       "      <th>2</th>\n",
       "      <td>A2M</td>\n",
       "      <td>NOTEST</td>\n",
       "      <td>0.098657</td>\n",
       "      <td>0.004655</td>\n",
       "      <td>-4.40572</td>\n",
       "      <td>1</td>\n",
       "      <td>1</td>\n",
       "      <td>0</td>\n",
       "      <td>0</td>\n",
       "      <td>0</td>\n",
       "      <td>...</td>\n",
       "      <td>NaN</td>\n",
       "      <td>NaN</td>\n",
       "      <td>NaN</td>\n",
       "      <td>115</td>\n",
       "      <td>0</td>\n",
       "      <td>NaN</td>\n",
       "      <td>NaN</td>\n",
       "      <td>NaN</td>\n",
       "      <td>NaN</td>\n",
       "      <td>NaN</td>\n",
       "    </tr>\n",
       "  </tbody>\n",
       "</table>\n",
       "<p>3 rows × 38 columns</p>\n",
       "</div>"
      ],
      "text/plain": [
       "  symbol  status  RPKM_siSte  RPKM_siPUM1 log2(fold_change)  p_value  q_value  \\\n",
       "0   A1BG  NOTEST    0.011698     0.022679          0.955057        1        1   \n",
       "1   A1CF  NOTEST    0.048423     0.057783          0.254932        1        1   \n",
       "2    A2M  NOTEST    0.098657     0.004655          -4.40572        1        1   \n",
       "\n",
       "   T0_con  T1_ con  T2_cpn          ...           half_life_siPUM1  \\\n",
       "0       0        0       0          ...                        NaN   \n",
       "1       1        0       0          ...                        NaN   \n",
       "2       0        0       0          ...                        NaN   \n",
       "\n",
       "   log2(Relative half-life[siPUM1/siStealth])  \\\n",
       "0                                         NaN   \n",
       "1                                         NaN   \n",
       "2                                         NaN   \n",
       "\n",
       "   p-value(Welch Modified Two-Sample t-test) 3UTR_length  PUM_motif  \\\n",
       "0                                        NaN         216          0   \n",
       "1                                        NaN        7320          3   \n",
       "2                                        NaN         115          0   \n",
       "\n",
       "   HalfLife_siStealth_PUM1_study  HalfLife_siCTRL_PUM2_study  \\\n",
       "0                            NaN                         NaN   \n",
       "1                            NaN                         NaN   \n",
       "2                            NaN                         NaN   \n",
       "\n",
       "   HalfLife_siCTRL_PUM1_2_study  HalfLife_siPUM1_PUM1_study  \\\n",
       "0                           NaN                         NaN   \n",
       "1                           NaN                         NaN   \n",
       "2                           NaN                         NaN   \n",
       "\n",
       "   P-value(Grubbs test)  \n",
       "0                   NaN  \n",
       "1                   NaN  \n",
       "2                   NaN  \n",
       "\n",
       "[3 rows x 38 columns]"
      ]
     },
     "execution_count": 8,
     "metadata": {},
     "output_type": "execute_result"
    }
   ],
   "source": [
    "df.head(3)"
   ]
  },
  {
   "cell_type": "code",
   "execution_count": 10,
   "metadata": {
    "collapsed": false,
    "scrolled": true
   },
   "outputs": [
    {
     "name": "stdout",
     "output_type": "stream",
     "text": [
      "<class 'pandas.core.frame.DataFrame'>\n",
      "Int64Index: 19195 entries, 0 to 19194\n",
      "Data columns (total 38 columns):\n",
      "symbol                                        19195 non-null object\n",
      "status                                        19195 non-null object\n",
      "RPKM_siSte                                    19195 non-null float64\n",
      "RPKM_siPUM1                                   19195 non-null float64\n",
      "log2(fold_change)                             19195 non-null object\n",
      "p_value                                       19195 non-null float64\n",
      "q_value                                       19195 non-null float64\n",
      "T0_con                                        19195 non-null float64\n",
      "T1_ con                                       19195 non-null float64\n",
      "T2_cpn                                        19195 non-null float64\n",
      "T4_con                                        19195 non-null float64\n",
      "T8_con                                        19195 non-null float64\n",
      "T12_con                                       19195 non-null float64\n",
      "Mode_siStel                                   12469 non-null object\n",
      "Decay_rate_coef_siSte                         12469 non-null float64\n",
      "coef_error_siSte                              12469 non-null float64\n",
      "Adjusted_R2_siSte                             12469 non-null float64\n",
      "half_life_siSte                               12469 non-null float64\n",
      "T0_siPUM1                                     19195 non-null float64\n",
      "T1_siPUM1                                     19195 non-null float64\n",
      "T2_siPUM1                                     19195 non-null float64\n",
      "T4_siPUM1                                     19195 non-null float64\n",
      "T8_siPUM1                                     19195 non-null float64\n",
      "T12_siPUM1                                    19195 non-null float64\n",
      "Model_siPUM1                                  12618 non-null object\n",
      "Decay_rate_coef_siPUM1                        12618 non-null float64\n",
      "coef_error_siPUM1                             12618 non-null float64\n",
      "Adjusted_R2_siPUM1                            12618 non-null float64\n",
      "half_life_siPUM1                              12618 non-null float64\n",
      "log2(Relative half-life[siPUM1/siStealth])    12143 non-null float64\n",
      "p-value(Welch Modified Two-Sample t-test)     12143 non-null object\n",
      "3UTR_length                                   19195 non-null float64\n",
      "PUM_motif                                     19195 non-null float64\n",
      "HalfLife_siStealth_PUM1_study                 12469 non-null float64\n",
      "HalfLife_siCTRL_PUM2_study                    12234 non-null float64\n",
      "HalfLife_siCTRL_PUM1_2_study                  12119 non-null float64\n",
      "HalfLife_siPUM1_PUM1_study                    12618 non-null float64\n",
      "P-value(Grubbs test)                          5328 non-null float64\n",
      "dtypes: float64(32), object(6)\n",
      "memory usage: 5.3+ MB\n"
     ]
    }
   ],
   "source": [
    "df.info()"
   ]
  },
  {
   "cell_type": "code",
   "execution_count": 15,
   "metadata": {
    "collapsed": false
   },
   "outputs": [],
   "source": [
    "# extract the genes of which q_value is lower than 0.05\n",
    "df005 = df[df['q_value'] < 0.051]"
   ]
  },
  {
   "cell_type": "code",
   "execution_count": 16,
   "metadata": {
    "collapsed": false,
    "scrolled": true
   },
   "outputs": [
    {
     "data": {
      "text/html": [
       "<div>\n",
       "<table border=\"1\" class=\"dataframe\">\n",
       "  <thead>\n",
       "    <tr style=\"text-align: right;\">\n",
       "      <th></th>\n",
       "      <th>symbol</th>\n",
       "      <th>status</th>\n",
       "      <th>RPKM_siSte</th>\n",
       "      <th>RPKM_siPUM1</th>\n",
       "      <th>log2(fold_change)</th>\n",
       "      <th>p_value</th>\n",
       "      <th>q_value</th>\n",
       "      <th>T0_con</th>\n",
       "      <th>T1_ con</th>\n",
       "      <th>T2_cpn</th>\n",
       "      <th>...</th>\n",
       "      <th>half_life_siPUM1</th>\n",
       "      <th>log2(Relative half-life[siPUM1/siStealth])</th>\n",
       "      <th>p-value(Welch Modified Two-Sample t-test)</th>\n",
       "      <th>3UTR_length</th>\n",
       "      <th>PUM_motif</th>\n",
       "      <th>HalfLife_siStealth_PUM1_study</th>\n",
       "      <th>HalfLife_siCTRL_PUM2_study</th>\n",
       "      <th>HalfLife_siCTRL_PUM1_2_study</th>\n",
       "      <th>HalfLife_siPUM1_PUM1_study</th>\n",
       "      <th>P-value(Grubbs test)</th>\n",
       "    </tr>\n",
       "  </thead>\n",
       "  <tbody>\n",
       "    <tr>\n",
       "      <th>7</th>\n",
       "      <td>AAAS</td>\n",
       "      <td>OK</td>\n",
       "      <td>61.837100</td>\n",
       "      <td>46.659100</td>\n",
       "      <td>-0.406315</td>\n",
       "      <td>0.00315</td>\n",
       "      <td>0.031878</td>\n",
       "      <td>1</td>\n",
       "      <td>0.816993</td>\n",
       "      <td>0.859503</td>\n",
       "      <td>...</td>\n",
       "      <td>24.00000</td>\n",
       "      <td>0.644851</td>\n",
       "      <td>0.002160858</td>\n",
       "      <td>33</td>\n",
       "      <td>0</td>\n",
       "      <td>15.349410</td>\n",
       "      <td>16.802350</td>\n",
       "      <td>19.561350</td>\n",
       "      <td>24.00000</td>\n",
       "      <td>0.223133</td>\n",
       "    </tr>\n",
       "    <tr>\n",
       "      <th>36</th>\n",
       "      <td>ABCA3</td>\n",
       "      <td>OK</td>\n",
       "      <td>0.438829</td>\n",
       "      <td>0.078530</td>\n",
       "      <td>-2.48235</td>\n",
       "      <td>0.00005</td>\n",
       "      <td>0.001151</td>\n",
       "      <td>0</td>\n",
       "      <td>0.000000</td>\n",
       "      <td>0.000000</td>\n",
       "      <td>...</td>\n",
       "      <td>NaN</td>\n",
       "      <td>NaN</td>\n",
       "      <td>NaN</td>\n",
       "      <td>796</td>\n",
       "      <td>0</td>\n",
       "      <td>NaN</td>\n",
       "      <td>NaN</td>\n",
       "      <td>NaN</td>\n",
       "      <td>NaN</td>\n",
       "      <td>NaN</td>\n",
       "    </tr>\n",
       "    <tr>\n",
       "      <th>41</th>\n",
       "      <td>ABCA8</td>\n",
       "      <td>OK</td>\n",
       "      <td>0.218874</td>\n",
       "      <td>0.422762</td>\n",
       "      <td>0.949742</td>\n",
       "      <td>0.00080</td>\n",
       "      <td>0.011312</td>\n",
       "      <td>1</td>\n",
       "      <td>0.000000</td>\n",
       "      <td>0.880561</td>\n",
       "      <td>...</td>\n",
       "      <td>18.33887</td>\n",
       "      <td>1.286153</td>\n",
       "      <td>0.1211328</td>\n",
       "      <td>798</td>\n",
       "      <td>0</td>\n",
       "      <td>7.519726</td>\n",
       "      <td>4.456087</td>\n",
       "      <td>5.190754</td>\n",
       "      <td>18.33887</td>\n",
       "      <td>0.041527</td>\n",
       "    </tr>\n",
       "    <tr>\n",
       "      <th>48</th>\n",
       "      <td>ABCB6</td>\n",
       "      <td>OK</td>\n",
       "      <td>18.355100</td>\n",
       "      <td>24.697200</td>\n",
       "      <td>0.428169</td>\n",
       "      <td>0.00295</td>\n",
       "      <td>0.030383</td>\n",
       "      <td>1</td>\n",
       "      <td>0.783961</td>\n",
       "      <td>0.833318</td>\n",
       "      <td>...</td>\n",
       "      <td>17.37628</td>\n",
       "      <td>0.824972</td>\n",
       "      <td>0.04619848</td>\n",
       "      <td>172</td>\n",
       "      <td>0</td>\n",
       "      <td>9.808790</td>\n",
       "      <td>11.039560</td>\n",
       "      <td>10.532760</td>\n",
       "      <td>17.37628</td>\n",
       "      <td>0.020997</td>\n",
       "    </tr>\n",
       "    <tr>\n",
       "      <th>57</th>\n",
       "      <td>ABCC3</td>\n",
       "      <td>OK</td>\n",
       "      <td>8.512500</td>\n",
       "      <td>14.577500</td>\n",
       "      <td>0.776088</td>\n",
       "      <td>0.00005</td>\n",
       "      <td>0.001151</td>\n",
       "      <td>1</td>\n",
       "      <td>0.715024</td>\n",
       "      <td>0.782295</td>\n",
       "      <td>...</td>\n",
       "      <td>24.00000</td>\n",
       "      <td>0.732339</td>\n",
       "      <td>0.01966236</td>\n",
       "      <td>502</td>\n",
       "      <td>0</td>\n",
       "      <td>14.446250</td>\n",
       "      <td>20.468510</td>\n",
       "      <td>20.827130</td>\n",
       "      <td>24.00000</td>\n",
       "      <td>NaN</td>\n",
       "    </tr>\n",
       "  </tbody>\n",
       "</table>\n",
       "<p>5 rows × 38 columns</p>\n",
       "</div>"
      ],
      "text/plain": [
       "   symbol status  RPKM_siSte  RPKM_siPUM1 log2(fold_change)  p_value  \\\n",
       "7    AAAS     OK   61.837100    46.659100         -0.406315  0.00315   \n",
       "36  ABCA3     OK    0.438829     0.078530          -2.48235  0.00005   \n",
       "41  ABCA8     OK    0.218874     0.422762          0.949742  0.00080   \n",
       "48  ABCB6     OK   18.355100    24.697200          0.428169  0.00295   \n",
       "57  ABCC3     OK    8.512500    14.577500          0.776088  0.00005   \n",
       "\n",
       "     q_value  T0_con   T1_ con    T2_cpn          ...           \\\n",
       "7   0.031878       1  0.816993  0.859503          ...            \n",
       "36  0.001151       0  0.000000  0.000000          ...            \n",
       "41  0.011312       1  0.000000  0.880561          ...            \n",
       "48  0.030383       1  0.783961  0.833318          ...            \n",
       "57  0.001151       1  0.715024  0.782295          ...            \n",
       "\n",
       "    half_life_siPUM1  log2(Relative half-life[siPUM1/siStealth])  \\\n",
       "7           24.00000                                    0.644851   \n",
       "36               NaN                                         NaN   \n",
       "41          18.33887                                    1.286153   \n",
       "48          17.37628                                    0.824972   \n",
       "57          24.00000                                    0.732339   \n",
       "\n",
       "    p-value(Welch Modified Two-Sample t-test) 3UTR_length  PUM_motif  \\\n",
       "7                                 0.002160858          33          0   \n",
       "36                                        NaN         796          0   \n",
       "41                                  0.1211328         798          0   \n",
       "48                                 0.04619848         172          0   \n",
       "57                                 0.01966236         502          0   \n",
       "\n",
       "    HalfLife_siStealth_PUM1_study  HalfLife_siCTRL_PUM2_study  \\\n",
       "7                       15.349410                   16.802350   \n",
       "36                            NaN                         NaN   \n",
       "41                       7.519726                    4.456087   \n",
       "48                       9.808790                   11.039560   \n",
       "57                      14.446250                   20.468510   \n",
       "\n",
       "    HalfLife_siCTRL_PUM1_2_study  HalfLife_siPUM1_PUM1_study  \\\n",
       "7                      19.561350                    24.00000   \n",
       "36                           NaN                         NaN   \n",
       "41                      5.190754                    18.33887   \n",
       "48                     10.532760                    17.37628   \n",
       "57                     20.827130                    24.00000   \n",
       "\n",
       "    P-value(Grubbs test)  \n",
       "7               0.223133  \n",
       "36                   NaN  \n",
       "41              0.041527  \n",
       "48              0.020997  \n",
       "57                   NaN  \n",
       "\n",
       "[5 rows x 38 columns]"
      ]
     },
     "execution_count": 16,
     "metadata": {},
     "output_type": "execute_result"
    }
   ],
   "source": [
    "df005.head(5)"
   ]
  },
  {
   "cell_type": "code",
   "execution_count": 17,
   "metadata": {
    "collapsed": true
   },
   "outputs": [],
   "source": [
    "# define the genes which increases (df_up) or decrease (_down) by siPUM \n",
    "df005_up = df005[df005['log2(fold_change)'] >0]\n",
    "df005_down = df005[df005['log2(fold_change)'] <0]"
   ]
  },
  {
   "cell_type": "code",
   "execution_count": 32,
   "metadata": {
    "collapsed": false
   },
   "outputs": [
    {
     "data": {
      "text/plain": [
       "798"
      ]
     },
     "execution_count": 32,
     "metadata": {},
     "output_type": "execute_result"
    }
   ],
   "source": [
    "# count the number of genes\n",
    "df005_up['PUM_motif'].count()\n",
    "df005_down['PUM_motif'].count()"
   ]
  },
  {
   "cell_type": "code",
   "execution_count": 19,
   "metadata": {
    "collapsed": false,
    "scrolled": true
   },
   "outputs": [
    {
     "data": {
      "text/plain": [
       "824"
      ]
     },
     "execution_count": 19,
     "metadata": {},
     "output_type": "execute_result"
    }
   ],
   "source": [
    "df005_up['3UTR_length'].count()"
   ]
  },
  {
   "cell_type": "code",
   "execution_count": 33,
   "metadata": {
    "collapsed": false
   },
   "outputs": [],
   "source": [
    "# count the number of genes containing PUM motif\n",
    "df005_up_motif = df005_up[df005_up['PUM_motif'] >0]\n",
    "df005_down_motif = df005_down[df005_down['PUM_motif'] >0]"
   ]
  },
  {
   "cell_type": "code",
   "execution_count": 25,
   "metadata": {
    "collapsed": false
   },
   "outputs": [
    {
     "data": {
      "text/plain": [
       "373"
      ]
     },
     "execution_count": 25,
     "metadata": {},
     "output_type": "execute_result"
    }
   ],
   "source": [
    "df005_up_motif['PUM_motif'].count()"
   ]
  },
  {
   "cell_type": "code",
   "execution_count": 34,
   "metadata": {
    "collapsed": false,
    "scrolled": true
   },
   "outputs": [
    {
     "name": "stdout",
     "output_type": "stream",
     "text": [
      "0.452669902913 0.199248120301\n"
     ]
    }
   ],
   "source": [
    "#estimate the motif fraction\n",
    "percent_up = 1.0 * df005_up_motif['PUM_motif'].count() / df005_up['PUM_motif'].count()\n",
    "percent_down = 1.0 * df005_down_motif['PUM_motif'].count() / df005_down['PUM_motif'].count()\n",
    "print percent_up, percent_down"
   ]
  },
  {
   "cell_type": "code",
   "execution_count": null,
   "metadata": {
    "collapsed": true
   },
   "outputs": [],
   "source": []
  }
 ],
 "metadata": {
  "kernelspec": {
   "display_name": "Python 2",
   "language": "python",
   "name": "python2"
  },
  "language_info": {
   "codemirror_mode": {
    "name": "ipython",
    "version": 2
   },
   "file_extension": ".py",
   "mimetype": "text/x-python",
   "name": "python",
   "nbconvert_exporter": "python",
   "pygments_lexer": "ipython2",
   "version": "2.7.10"
  }
 },
 "nbformat": 4,
 "nbformat_minor": 0
}
