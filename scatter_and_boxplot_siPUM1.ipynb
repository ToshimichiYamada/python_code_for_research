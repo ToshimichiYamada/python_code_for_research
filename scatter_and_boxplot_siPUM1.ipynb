{
 "cells": [
  {
   "cell_type": "code",
   "execution_count": 1,
   "metadata": {
    "collapsed": true
   },
   "outputs": [],
   "source": [
    "import xlrd\n",
    "import numpy as np\n",
    "import pandas\n",
    "from pandas import DataFrame\n",
    "\n",
    "# import data from excel \n",
    "if __name__ == '__main__' :\n",
    "    book = xlrd.open_workbook ('C:/research/python/data/PUM1_results.xlsx')\n",
    "    sheet = book.sheet_by_name('Sheet1')\n",
    "    data = []\n",
    "    data = [[sheet.cell_value(r, col)\n",
    "                for col in range(sheet.ncols)]\n",
    "                for r in range(sheet.nrows)]\n",
    "\n",
    "# numbers are registered as numbers, while leaving the strings alone\n",
    "for i in range (len (data)):\n",
    "    for j in range(len(data[0])):\n",
    "        try:\n",
    "            data[i][j] = float (data[i][j])\n",
    "        except:\n",
    "            pass\n",
    "        \n",
    "# Wrap the data in a pandas DataFrame\n",
    "df = DataFrame(data[1:], columns = data[0])\n",
    "\n",
    "# extract the significant increased genes by siPUM1\n",
    "df_q = df[df['q_value'] < 0.05]\n",
    "df_qup = df_q[df_q['log2_fold_RPKM'] > 0]\n",
    "df_p = df_qup[df_qup['p_value'] < 0.05]\n",
    "df_up = df_p[df_p['log2_fold_thalf'] > 0]\n",
    "\n",
    "# Define the data set of which genes contain PUM motifs\n",
    "df_up_motif = df_up[df_up['number'] > 0]\n",
    "\n",
    "# Define the basic transcripts set : RPKM is larger than 0.1 & t_half > 0\n",
    "df_rpkm = df[df['RPKM_siSte'] > 0.1]\n",
    "df_base = df_rpkm[df_rpkm['thalf_siSte'] > 0]"
   ]
  },
  {
   "cell_type": "code",
   "execution_count": 2,
   "metadata": {
    "collapsed": false
   },
   "outputs": [
    {
     "data": {
      "text/html": [
       "<div>\n",
       "<table border=\"1\" class=\"dataframe\">\n",
       "  <thead>\n",
       "    <tr style=\"text-align: right;\">\n",
       "      <th></th>\n",
       "      <th>gr_id</th>\n",
       "      <th>symbol</th>\n",
       "      <th>locus</th>\n",
       "      <th>number</th>\n",
       "      <th>sequence</th>\n",
       "      <th>position</th>\n",
       "      <th>3UTR length</th>\n",
       "      <th>RPKM_siSte</th>\n",
       "      <th>RPKM_siPUM1</th>\n",
       "      <th>log2_fold_RPKM</th>\n",
       "      <th>...</th>\n",
       "      <th>thalf_siSte</th>\n",
       "      <th>thalf_siPUM1</th>\n",
       "      <th>log2_fold_thalf</th>\n",
       "      <th>p_value</th>\n",
       "      <th>miRNA_binding_sites</th>\n",
       "      <th>start_site</th>\n",
       "      <th>miRNA</th>\n",
       "      <th>miR_symbol</th>\n",
       "      <th>miR_seq</th>\n",
       "      <th>miR_ID</th>\n",
       "    </tr>\n",
       "  </thead>\n",
       "  <tbody>\n",
       "    <tr>\n",
       "      <th>5</th>\n",
       "      <td>6</td>\n",
       "      <td>A4GALT</td>\n",
       "      <td>chr22:43088126-43116876</td>\n",
       "      <td>0</td>\n",
       "      <td>NaN</td>\n",
       "      <td>NaN</td>\n",
       "      <td>769</td>\n",
       "      <td>3.14619</td>\n",
       "      <td>4.4381</td>\n",
       "      <td>0.496339</td>\n",
       "      <td>...</td>\n",
       "      <td>2.591055</td>\n",
       "      <td>3.352392</td>\n",
       "      <td>0.371651</td>\n",
       "      <td>0.572913</td>\n",
       "      <td>0</td>\n",
       "      <td>NaN</td>\n",
       "      <td>NaN</td>\n",
       "      <td>NaN</td>\n",
       "      <td>NaN</td>\n",
       "      <td>NaN</td>\n",
       "    </tr>\n",
       "    <tr>\n",
       "      <th>7</th>\n",
       "      <td>8</td>\n",
       "      <td>AAAS</td>\n",
       "      <td>chr12:53701239-53715412</td>\n",
       "      <td>0</td>\n",
       "      <td>NaN</td>\n",
       "      <td>NaN</td>\n",
       "      <td>33</td>\n",
       "      <td>61.83710</td>\n",
       "      <td>46.6591</td>\n",
       "      <td>-0.406315</td>\n",
       "      <td>...</td>\n",
       "      <td>15.349410</td>\n",
       "      <td>24.000000</td>\n",
       "      <td>0.644851</td>\n",
       "      <td>0.002161</td>\n",
       "      <td>0</td>\n",
       "      <td>NaN</td>\n",
       "      <td>NaN</td>\n",
       "      <td>NaN</td>\n",
       "      <td>NaN</td>\n",
       "      <td>NaN</td>\n",
       "    </tr>\n",
       "    <tr>\n",
       "      <th>8</th>\n",
       "      <td>9</td>\n",
       "      <td>AACS</td>\n",
       "      <td>chr12:125549924-125627871</td>\n",
       "      <td>1</td>\n",
       "      <td>TGTATACA</td>\n",
       "      <td>1066</td>\n",
       "      <td>1096</td>\n",
       "      <td>18.12060</td>\n",
       "      <td>18.5598</td>\n",
       "      <td>0.034543</td>\n",
       "      <td>...</td>\n",
       "      <td>8.682658</td>\n",
       "      <td>10.068060</td>\n",
       "      <td>0.213577</td>\n",
       "      <td>0.576386</td>\n",
       "      <td>1</td>\n",
       "      <td>1057</td>\n",
       "      <td>miR-137</td>\n",
       "      <td>hsa-miR-137</td>\n",
       "      <td>UUAUUGCUUAAGAAUACGCGUAG</td>\n",
       "      <td>MIMAT0000429</td>\n",
       "    </tr>\n",
       "  </tbody>\n",
       "</table>\n",
       "<p>3 rows × 21 columns</p>\n",
       "</div>"
      ],
      "text/plain": [
       "   gr_id  symbol                      locus  number  sequence position  \\\n",
       "5      6  A4GALT    chr22:43088126-43116876       0       NaN      NaN   \n",
       "7      8    AAAS    chr12:53701239-53715412       0       NaN      NaN   \n",
       "8      9    AACS  chr12:125549924-125627871       1  TGTATACA     1066   \n",
       "\n",
       "   3UTR length  RPKM_siSte  RPKM_siPUM1  log2_fold_RPKM      ...       \\\n",
       "5          769     3.14619       4.4381        0.496339      ...        \n",
       "7           33    61.83710      46.6591       -0.406315      ...        \n",
       "8         1096    18.12060      18.5598        0.034543      ...        \n",
       "\n",
       "   thalf_siSte  thalf_siPUM1  log2_fold_thalf   p_value  miRNA_binding_sites  \\\n",
       "5     2.591055      3.352392         0.371651  0.572913                    0   \n",
       "7    15.349410     24.000000         0.644851  0.002161                    0   \n",
       "8     8.682658     10.068060         0.213577  0.576386                    1   \n",
       "\n",
       "   start_site    miRNA   miR_symbol                  miR_seq        miR_ID  \n",
       "5         NaN      NaN          NaN                      NaN           NaN  \n",
       "7         NaN      NaN          NaN                      NaN           NaN  \n",
       "8        1057  miR-137  hsa-miR-137  UUAUUGCUUAAGAAUACGCGUAG  MIMAT0000429  \n",
       "\n",
       "[3 rows x 21 columns]"
      ]
     },
     "execution_count": 2,
     "metadata": {},
     "output_type": "execute_result"
    }
   ],
   "source": [
    "df_base.head(3)"
   ]
  },
  {
   "cell_type": "code",
   "execution_count": 21,
   "metadata": {
    "collapsed": false
   },
   "outputs": [],
   "source": [
    "import matplotlib.pyplot as plt\n",
    "\n",
    "plt.figure();\n",
    "plt.subplot(3,1,1)\n",
    "df_up['RPKM_siPUM1'].plot(kind = 'hist', normed = True, alpha = 0.6, color = 'r', label = 'siPUM1', bins =40, range = (0, 200))\n",
    "plt.legend(prop={'size':15})\n",
    "plt.ylabel('Frequency')\n",
    "#plt.xlim(0, 20)\n",
    "plt.ylim(0, 0.1)\n",
    "\n",
    "plt.subplot(3,1,2)\n",
    "df_up['RPKM_siSte'].plot(kind = 'hist', normed = True, alpha = 0.6, color = 'b', label ='siCTRL', bins =40, range = (0, 200))\n",
    "plt.legend(prop={'size':15})\n",
    "plt.xlabel('relative expression')\n",
    "plt.ylabel('Frequency')\n",
    "#plt.xlim(0, 20)\n",
    "plt.ylim(0, 0.1)\n",
    "\n",
    "plt.subplot(3,1,3)\n",
    "df_base['RPKM_siSte'].plot(kind = 'hist', normed = True, alpha = 0.6, color = 'k', label ='ALL', bins =40, range = (0, 200))\n",
    "plt.legend(prop={'size':15})\n",
    "plt.xlabel('relative expression')\n",
    "plt.ylabel('Frequency')\n",
    "#plt.xlim(0, 20)\n",
    "plt.ylim(0, 0.1)\n",
    "\n",
    "plt.show()"
   ]
  },
  {
   "cell_type": "code",
   "execution_count": 7,
   "metadata": {
    "collapsed": true
   },
   "outputs": [],
   "source": [
    "import numpy as np"
   ]
  },
  {
   "cell_type": "code",
   "execution_count": 12,
   "metadata": {
    "collapsed": true
   },
   "outputs": [],
   "source": [
    "plt.figure();\n",
    "plt.subplot(2,1,1)\n",
    "df_up['RPKM_siPUM1'].plot(kind = 'hist', normed = True, alpha = 0.6, color = 'r', label = 'siPUM1',bins = 10 ** np.linspace(np.log10(0.1), np.log10(600), 50))\n",
    "plt.legend(prop={'size':15})\n",
    "plt.ylabel('Frequency')\n",
    "plt.gca().set_xscale(\"log\")\n",
    "plt.ylim(0, 0.3)\n",
    "\n",
    "plt.subplot(2,1,2)\n",
    "df_up['RPKM_siSte'].plot(kind = 'hist', normed = True, alpha = 0.6, color = 'b', label ='siSte', bins = 10 ** np.linspace(np.log10(0.1), np.log10(600), 50))\n",
    "plt.legend(prop={'size':15})\n",
    "plt.xlabel('Expression')\n",
    "plt.ylabel('Frequency')\n",
    "plt.gca().set_xscale(\"log\")\n",
    "#plt.ylim(0, 0.0015)\n",
    "\n",
    "plt.show()"
   ]
  },
  {
   "cell_type": "code",
   "execution_count": 27,
   "metadata": {
    "collapsed": false
   },
   "outputs": [],
   "source": [
    "# plott a scatter : RPKM_siPUM1 vs RPKM_siSte (log scale)\n",
    "\n",
    "plt.scatter(df_base['RPKM_siSte'], df_base['RPKM_siPUM1'], marker = 'o', color = 'k', alpha = 0.1)\n",
    "plt.scatter(df_up['RPKM_siSte'], df_up['RPKM_siPUM1'], marker = 'o', color = 'r', alpha = 0.5)\n",
    "plt.xlabel('Expression siCTRL (RPKM)')\n",
    "plt.ylabel('Expression siPUM1 (RPKM)')\n",
    "plt.gca().set_yscale('log')\n",
    "plt.gca().set_xscale('log')\n",
    "plt.show()"
   ]
  },
  {
   "cell_type": "code",
   "execution_count": 45,
   "metadata": {
    "collapsed": false
   },
   "outputs": [],
   "source": [
    "# plot a boxplot RPKM\n",
    "\n",
    "df_up_rpkm = df_up.loc[:, ['RPKM_siSte','RPKM_siPUM1']]\n",
    "\n",
    "fig, ax = plt.subplots()\n",
    "plot = df_up_rpkm.boxplot(ax = ax, positions=[1,2], notch = True)\n",
    "\n",
    "\n",
    "#plt.figure()\n",
    "#plot = plt.boxplot(df_up_rpkm, widths = 0.7, notch = True, positions = locations, patch_artist = True)\n",
    "# draw horizontal grid lines\n",
    "#plt.grid(axis = 'y', linestyle = '--', which = 'major', color = 'lightgrey', alpha = 0.7)\n",
    "# fill each box in a different color\n",
    "#for box, colour in zip(plot['boxes'], box_colours):\n",
    "#    plt.setp(box, color = 'K', linewidth = 1.5, facecolor = colour)\n",
    "# customize the whiskers, caps, fliers and medians\n",
    "plt.setp(plot['boxes'], color='darkblue', linewidth = 1.5)\n",
    "plt.setp(plot['whiskers'], color='K', linewidth = 1.5)\n",
    "plt.setp(plot['medians'], color='OrangeRed', linewidth = 2.5)\n",
    "plt.setp(plot['fliers'], color='b', marker='o', markersize=5, alpha = 0.5)\n",
    "\n",
    "plt.ylabel('Relatice Expression (log)')   \n",
    "# log scale\n",
    "plt.gca().set_yscale('log')\n",
    "\n",
    "plt.show()\n",
    "    "
   ]
  },
  {
   "cell_type": "code",
   "execution_count": 47,
   "metadata": {
    "collapsed": true
   },
   "outputs": [],
   "source": [
    "# plott a scatter : Thalf_siPUM1 vs Thalf_siSte (log scale)\n",
    "\n",
    "plt.scatter(df_base['thalf_siSte'], df_base['thalf_siPUM1'], marker = 'o', color = 'k', alpha = 0.1)\n",
    "plt.scatter(df_up['thalf_siSte'], df_up['thalf_siPUM1'], marker = 'o', color = 'r', alpha = 0.5)\n",
    "plt.xlim(0.1, 25)\n",
    "plt.ylim(0.1, 25)\n",
    "plt.xlabel('Half time siCTRL (hr)')\n",
    "plt.ylabel('Half time siPUM1 (hr)')\n",
    "plt.gca().set_yscale('log')\n",
    "plt.gca().set_xscale('log')\n",
    "plt.show()"
   ]
  },
  {
   "cell_type": "code",
   "execution_count": 48,
   "metadata": {
    "collapsed": true
   },
   "outputs": [],
   "source": [
    "# plot a boxplot Thalf\n",
    "\n",
    "df_up_t = df_up.loc[:, ['thalf_siSte','thalf_siPUM1']]\n",
    "\n",
    "fig, ax = plt.subplots()\n",
    "plot = df_up_t.boxplot(ax = ax, positions=[1,2], notch = True)\n",
    "\n",
    "# customize the whiskers, caps, fliers and medians\n",
    "plt.setp(plot['boxes'], color='darkblue', linewidth = 1.5)\n",
    "plt.setp(plot['whiskers'], color='K', linewidth = 1.5)\n",
    "plt.setp(plot['medians'], color='OrangeRed', linewidth = 2.5)\n",
    "plt.setp(plot['fliers'], color='b', marker='o', markersize=5, alpha = 0.5)\n",
    "\n",
    "plt.ylabel('Half time (log)')   \n",
    "# log scale\n",
    "plt.gca().set_yscale('log')\n",
    "\n",
    "plt.show()"
   ]
  },
  {
   "cell_type": "code",
   "execution_count": 58,
   "metadata": {
    "collapsed": false
   },
   "outputs": [],
   "source": [
    "plt.figure(figsize = (8,8))\n",
    "plt.scatter(df_up['log2_fold_thalf'], df_up['log2_fold_RPKM'], marker = 'o', color = 'r', alpha = 0.5, s = 40)\n",
    "plt.ylabel('Fold change in expression')\n",
    "plt.xlabel('Fold change in half time')\n",
    "plt.xlim(0, 4)\n",
    "plt.ylim(0, 4)\n",
    "plt.show()"
   ]
  },
  {
   "cell_type": "code",
   "execution_count": 59,
   "metadata": {
    "collapsed": false
   },
   "outputs": [
    {
     "data": {
      "text/html": [
       "<div>\n",
       "<table border=\"1\" class=\"dataframe\">\n",
       "  <thead>\n",
       "    <tr style=\"text-align: right;\">\n",
       "      <th></th>\n",
       "      <th>log2_fold_thalf</th>\n",
       "      <th>log2_fold_RPKM</th>\n",
       "    </tr>\n",
       "  </thead>\n",
       "  <tbody>\n",
       "    <tr>\n",
       "      <th>log2_fold_thalf</th>\n",
       "      <td>1.000000</td>\n",
       "      <td>0.504682</td>\n",
       "    </tr>\n",
       "    <tr>\n",
       "      <th>log2_fold_RPKM</th>\n",
       "      <td>0.504682</td>\n",
       "      <td>1.000000</td>\n",
       "    </tr>\n",
       "  </tbody>\n",
       "</table>\n",
       "</div>"
      ],
      "text/plain": [
       "                 log2_fold_thalf  log2_fold_RPKM\n",
       "log2_fold_thalf         1.000000        0.504682\n",
       "log2_fold_RPKM          0.504682        1.000000"
      ]
     },
     "execution_count": 59,
     "metadata": {},
     "output_type": "execute_result"
    }
   ],
   "source": [
    "df_fold = df_up.loc[:, ['log2_fold_thalf', 'log2_fold_RPKM']]\n",
    "df_fold.corr()"
   ]
  },
  {
   "cell_type": "code",
   "execution_count": 60,
   "metadata": {
    "collapsed": true
   },
   "outputs": [],
   "source": [
    "from scipy import stats"
   ]
  },
  {
   "cell_type": "code",
   "execution_count": 61,
   "metadata": {
    "collapsed": false
   },
   "outputs": [
    {
     "name": "stdout",
     "output_type": "stream",
     "text": [
      "0.0149235371228 120 120 2.27544378231e-76\n"
     ]
    }
   ],
   "source": [
    "# statistical test between siSte vs siPUM1\n",
    "# calculating F value\n",
    "\n",
    "f = np.var(df_up['RPKM_siSte'] / df_up['RPKM_siPUM1'])\n",
    "dfx = len(df_up['RPKM_siSte']) - 1\n",
    "dfy = len(df_up['RPKM_siPUM1']) - 1\n",
    "\n",
    "p_value = stats.f.cdf(f, dfx, dfy)\n",
    "print f, dfx, dfy, p_value"
   ]
  },
  {
   "cell_type": "code",
   "execution_count": 62,
   "metadata": {
    "collapsed": false
   },
   "outputs": [
    {
     "name": "stdout",
     "output_type": "stream",
     "text": [
      "5.46199954986e-09\n"
     ]
    }
   ],
   "source": [
    "# equal \n",
    "t, p = stats.ttest_rel(df_up['RPKM_siSte'], df_up['RPKM_siPUM1'])\n",
    "print p"
   ]
  },
  {
   "cell_type": "code",
   "execution_count": 63,
   "metadata": {
    "collapsed": false
   },
   "outputs": [
    {
     "name": "stdout",
     "output_type": "stream",
     "text": [
      "0.0221342882317 120 120 1.84455958903e-66\n"
     ]
    }
   ],
   "source": [
    "# statistical test between siSte vs siPUM1\n",
    "# calculating F value\n",
    "\n",
    "f = np.var(df_up['thalf_siSte'] / df_up['thalf_siPUM1'])\n",
    "dfx = len(df_up['thalf_siSte']) - 1\n",
    "dfy = len(df_up['thalf_siPUM1']) - 1\n",
    "\n",
    "p_value = stats.f.cdf(f, dfx, dfy)\n",
    "print f, dfx, dfy, p_value"
   ]
  },
  {
   "cell_type": "code",
   "execution_count": 64,
   "metadata": {
    "collapsed": false
   },
   "outputs": [
    {
     "name": "stdout",
     "output_type": "stream",
     "text": [
      "2.95033887064e-27\n"
     ]
    }
   ],
   "source": [
    "# equal \n",
    "t, p = stats.ttest_rel(df_up['thalf_siSte'], df_up['thalf_siPUM1'])\n",
    "print p"
   ]
  },
  {
   "cell_type": "code",
   "execution_count": null,
   "metadata": {
    "collapsed": true
   },
   "outputs": [],
   "source": []
  }
 ],
 "metadata": {
  "kernelspec": {
   "display_name": "Python 2",
   "language": "python",
   "name": "python2"
  },
  "language_info": {
   "codemirror_mode": {
    "name": "ipython",
    "version": 2
   },
   "file_extension": ".py",
   "mimetype": "text/x-python",
   "name": "python",
   "nbconvert_exporter": "python",
   "pygments_lexer": "ipython2",
   "version": "2.7.10"
  }
 },
 "nbformat": 4,
 "nbformat_minor": 0
}
