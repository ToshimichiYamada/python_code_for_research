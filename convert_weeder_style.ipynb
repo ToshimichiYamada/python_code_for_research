{
 "cells": [
  {
   "cell_type": "code",
   "execution_count": null,
   "metadata": {
    "collapsed": true
   },
   "outputs": [],
   "source": [
    "#!/usr/bin/env python3\n",
    "\n",
    "# convert the weeder results into [gene <tab> motif1|motif2|... <tab> position1|position2| ]  \n",
    "\n",
    "import sys\n",
    "import re\n",
    "\n",
    "input_file = open(sys.argv[1], 'r')\n",
    "output_file = open(sys.argv[2], 'w')\n",
    "\n",
    "global name\n",
    "name = ''\n",
    "gene_infor_dict = {}\n",
    "flg = 0\n",
    "\n",
    "for line in input_file:\n",
    "    line = line.rstrip()\n",
    "    data = line.split()\n",
    "    if re.search(\"^>\",line):\n",
    "        #print(line,end=\"\\n\", file=output_file)\n",
    "        name = line\n",
    "        name = name.replace('>','')\n",
    "        #dictionary: key = gene, value = motif sequence & its position in 3'UTR\n",
    "        if not name in gene_infor_dict:\n",
    "\t\t\tgene_infor_dict[name] = [ [], [] ]\n",
    "\t\telse:\n",
    "\t\t\tpass\n",
    "\t\tflg = 1\n",
    "\t\tcontinue\n",
    "\tif re.match('^\\+',line):\n",
    "\t\tif flg == 1:\n",
    "\t\t\tflg = 0\n",
    "\t\t\t#print(name, end=\"\\n\",file=output_file)\n",
    "\n",
    "        # input the motif and positions to the value    \n",
    "        seq = data[1]\n",
    "\t\tseq = seq.replace('[','')\n",
    "\t\tseq = seq.replace(']','')\n",
    "\t\tpos = data[3]\n",
    "\t\tpos = pos.replace(',','')\n",
    "\n",
    "        # extract the motif which starts from 5'-UGUA-3'\n",
    "        if re.match(\"TGTA\", seq):\n",
    "\n",
    "            gene_infor_dict[name][0].append(seq)\n",
    "            gene_infor_dict[name][1].append(pos)\n",
    "            continue\n",
    "\n",
    "\t\t#print(seq,end=\"\\n\",file=output_file)\n",
    "\t\tcontinue\n",
    "\n",
    "\n",
    "print('gene_symbol','PUM_motifs','position',sep=\"\\t\",end=\"\\n\",file=output_file)\n",
    "\n",
    "for x in gene_infor_dict.keys():\n",
    "\tgene_name = x\n",
    "\tseq_line = '|'.join(gene_infor_dict[x][0])\n",
    "\tpos_line = '|'.join(gene_infor_dict[x][1])\n",
    "\tif not seq_line == '':\n",
    "\t\tprint(gene_name,seq_line,pos_line, sep=\"\\t\",end=\"\\n\",file=output_file)"
   ]
  }
 ],
 "metadata": {
  "kernelspec": {
   "display_name": "Python 2",
   "language": "python",
   "name": "python2"
  },
  "language_info": {
   "codemirror_mode": {
    "name": "ipython",
    "version": 2
   },
   "file_extension": ".py",
   "mimetype": "text/x-python",
   "name": "python",
   "nbconvert_exporter": "python",
   "pygments_lexer": "ipython2",
   "version": "2.7.10"
  }
 },
 "nbformat": 4,
 "nbformat_minor": 0
}
