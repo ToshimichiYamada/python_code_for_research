{
 "cells": [
  {
   "cell_type": "code",
   "execution_count": 1,
   "metadata": {
    "collapsed": true
   },
   "outputs": [],
   "source": [
    "import xlrd \n",
    "import pandas\n",
    "from pandas import DataFrame, Series\n",
    "import matplotlib.pyplot as plt\n",
    "import xlwt\n",
    "\n",
    "# import data from excel \n",
    "if __name__ == '__main__' :\n",
    "    book = xlrd.open_workbook ('C:/research/python/data/Bric_seq_160119.xlsx')\n",
    "    sheet1 = book.sheet_by_name('PUM1')\n",
    "    data1 = []\n",
    "    data1 = [[sheet1.cell_value(r, col)\n",
    "                for col in range(sheet1.ncols)]\n",
    "                    for r in range(sheet1.nrows)]\n",
    "\n",
    "# numbers are registered as numbers, while leaving the strings alone\n",
    "for i in range (len (data1)):\n",
    "    for j in range(len(data1[0])):\n",
    "        try:\n",
    "            data1[i][j] = float (data1[i][j])\n",
    "        except:\n",
    "            pass\n",
    "\n",
    "# Wrap the data in a pandas DataFrame\n",
    "df = DataFrame(data1[1:], columns = data1[0])\n",
    "\n",
    "if __name__ == \"__main__\":\n",
    "    book = xlwt.Workbook()\n",
    "    sheet = book.add_sheet(\"RNAseq_motif_vs_q\", cell_overwrite_ok=True)\n",
    "    tag = ['q', 'PUM_motif_up', 'fraction_up', 'PUM_motif_down', 'fraction_down' ]\n",
    "    for j, ele in enumerate(tag):\n",
    "        sheet.write(0, j, ele)\n",
    "    \n",
    "    for i in range(1, 21):\n",
    "        q = 0.05 * i\n",
    "        df_q = 'df(' + str(q) + ')'\n",
    "    \n",
    "        # extract the genes of which q_value is lower than q    \n",
    "        df_q = df[df['q_value'] <= q]\n",
    "    \n",
    "        # define the genes which increases (df_up) or decrease (_down) by siPUM \n",
    "        df_up = df_q[df_q['log2(fold_change)'] >0]\n",
    "        df_down = df_q[df_q['log2(fold_change)'] <0]\n",
    "    \n",
    "        # count the number of genes containing PUM motif\n",
    "        df_up_motif = df_up[df_up['PUM_motif'] >0]\n",
    "        df_down_motif = df_down[df_down['PUM_motif'] >0]\n",
    "    \n",
    "        #estimate the motif fraction\n",
    "        percent_up = 1.0 * df_up_motif['PUM_motif'].count() / df_up['PUM_motif'].count()\n",
    "        percent_down = 1.0 * df_down_motif['PUM_motif'].count() / df_down['PUM_motif'].count()\n",
    "        \n",
    "        sheet.write(i, 0, q)        \n",
    "        sheet.write(i, 1, df_up['PUM_motif'].count())    \n",
    "        sheet.write(i, 2, percent_up)\n",
    "        sheet.write(i, 3, df_down['PUM_motif'].count())    \n",
    "        sheet.write(i, 4, percent_down)\n",
    "        \n",
    "book.save(\"C:/research/python/data/motif_enrichment.xls\")\n"
   ]
  },
  {
   "cell_type": "code",
   "execution_count": null,
   "metadata": {
    "collapsed": true
   },
   "outputs": [],
   "source": []
  }
 ],
 "metadata": {
  "kernelspec": {
   "display_name": "Python 2",
   "language": "python",
   "name": "python2"
  },
  "language_info": {
   "codemirror_mode": {
    "name": "ipython",
    "version": 2
   },
   "file_extension": ".py",
   "mimetype": "text/x-python",
   "name": "python",
   "nbconvert_exporter": "python",
   "pygments_lexer": "ipython2",
   "version": "2.7.10"
  }
 },
 "nbformat": 4,
 "nbformat_minor": 0
}
