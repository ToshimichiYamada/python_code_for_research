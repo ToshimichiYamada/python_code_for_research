{
 "cells": [
  {
   "cell_type": "markdown",
   "metadata": {},
   "source": [
    "# import excell and drow a plot"
   ]
  },
  {
   "cell_type": "code",
   "execution_count": null,
   "metadata": {
    "collapsed": true
   },
   "outputs": [],
   "source": [
    "# -*- coding: utf-8 -*-\n",
    "\"\"\"\n",
    "Created on Fri Jan 15 20:00:07 2016\n",
    "\n",
    "@author: Hiro\n",
    "\"\"\"\n",
    "\n",
    "import xlrd \n",
    "import pandas\n",
    "from pandas import DataFrame, Series\n",
    "import matplotlib.pyplot as plt\n",
    "\n",
    "# import data from excel \n",
    "if __name__ == '__main__' :\n",
    "    book = xlrd.open_workbook ('C:/research/python/data/qPCR_decay.xlsx') # position of the excel file\n",
    "    sheet1 = book.sheet_by_name('qPCR') # depend on the data location\n",
    "    data1 = []\n",
    "    data1 = [[sheet1.cell_value(r, col)\n",
    "                for col in range(sheet1.ncols)]\n",
    "                    for r in range(sheet1.nrows)]\n",
    "\n",
    "    sheet2 = book.sheet_by_name('Bric')\n",
    "    data2 = []\n",
    "    data2 = [[sheet2.cell_value(r, col)\n",
    "                for col in range(sheet2.ncols)]\n",
    "                    for r in range(sheet2.nrows)]\n",
    "\n",
    "\n",
    "# numbers are registered as numbers, while leaving the strings alone\n",
    "for i in range (len (data1)):\n",
    "    for j in range(len(data1[0])):\n",
    "        try:\n",
    "            data1[i][j] = float (data1[i][j])\n",
    "        except:\n",
    "            pass\n",
    "\n",
    "for i in range (len (data2)):\n",
    "    for j in range(len(data2[0])):\n",
    "        try:\n",
    "            data2[i][j] = float (data2[i][j])\n",
    "        except:\n",
    "            pass\n",
    "\n",
    "# Wrap the data in a pandas DataFrame\n",
    "df1 = DataFrame(data1[1:], columns = data1[0])\n",
    "df2 = DataFrame(data2[1:], columns = data2[0])\n",
    "\n",
    "\n",
    "# Expand to all data\n",
    "x = range(7)\n",
    "for i in x:\n",
    "\n",
    "    # plot the mRNA decay\n",
    "    plt.scatter(df1[\"time\"], df1.ix[:,2 + 2*i], edgecolor = 'k', facecolor = 'gray', label = 'qPCR siCTRL', alpha = 0.5)\n",
    "    plt.scatter(df1[\"time\"], df1.ix[:,3 + 2*i], edgecolor = 'darkred', facecolor = 'r', label = 'qPCR siPUM1', alpha = 0.5)\n",
    "    plt.scatter(df2[\"time\"], df2.ix[:,2 + 2*i], marker = 'D', edgecolor = 'k', facecolor = 'gray', label = 'Bric siCTRL', alpha = 0.5)\n",
    "    plt.scatter(df2[\"time\"], df2.ix[:,3 + 2*i], marker = 'D', edgecolor = 'darkred', facecolor = 'r', label = 'Bric siPUM1', alpha = 0.5)\n",
    "    plt.title(df1.ix[i,0] +' mRNA decay')\n",
    "    plt.xlabel('Time')\n",
    "    plt.ylabel('relative expression')\n",
    "    plt.legend(loc = 3, fontsize = 8)\n",
    "    plt.ylim(0.05,2.0)\n",
    "    plt.xlim(-1,13)\n",
    "    plt.yscale('log')\n",
    "    plt.savefig(df1.ix[i,0] +' mRNA decay', dpi = 300)\n",
    "    plt.close()\n"
   ]
  }
 ],
 "metadata": {
  "kernelspec": {
   "display_name": "Python 2",
   "language": "python",
   "name": "python2"
  },
  "language_info": {
   "codemirror_mode": {
    "name": "ipython",
    "version": 2
   },
   "file_extension": ".py",
   "mimetype": "text/x-python",
   "name": "python",
   "nbconvert_exporter": "python",
   "pygments_lexer": "ipython2",
   "version": "2.7.10"
  }
 },
 "nbformat": 4,
 "nbformat_minor": 0
}
