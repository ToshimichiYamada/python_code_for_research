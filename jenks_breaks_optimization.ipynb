{
 "cells": [
  {
   "cell_type": "code",
   "execution_count": 12,
   "metadata": {
    "collapsed": false
   },
   "outputs": [],
   "source": [
    "import numpy as np\n",
    "from numpy.random import *\n",
    "import matplotlib.pyplot as plt"
   ]
  },
  {
   "cell_type": "code",
   "execution_count": 16,
   "metadata": {
    "collapsed": false
   },
   "outputs": [
    {
     "name": "stdout",
     "output_type": "stream",
     "text": [
      "[115, 145, 106, 123, 97, 138, 124, 137, 101, 96, 146, 151, 129, 134, 97, 95, 148, 131, 90, 112, 111, 111, 155, 158, 128, 112, 137, 108, 90, 102, 130, 150, 93, 107, 103, 125, 153, 123, 152, 138, 83, 136, 82, 99, 157, 141, 142, 113, 114, 154, 155, 91, 157, 142, 130, 118, 105, 137, 143, 150, 158, 112, 101, 122, 109, 128, 119, 125, 80, 132, 98, 142, 89, 81, 117, 97, 97, 93, 99, 126, 138, 87, 83, 116, 87, 88, 100, 155, 150, 144, 119, 116, 120, 125, 109, 143, 83, 109, 80, 115, 181, 164, 238, 215, 171, 225, 168, 229, 196, 175, 182, 187, 222, 170, 224, 197, 197, 232, 173, 193, 190, 228, 203, 212, 162, 179, 206, 198, 177, 235, 226, 196, 176, 221, 196, 222, 199, 209, 162, 160, 238, 199, 185, 226, 205, 224, 177, 181, 185, 220, 230, 176, 221, 212, 168, 191, 183, 177, 194, 170, 209, 173, 193, 212, 179, 216, 215, 231, 202, 231, 196, 177, 167, 176, 163, 186, 178, 181, 168, 233, 227, 202, 184, 160, 225, 183, 225, 228, 201, 211, 220, 229, 222, 236, 182, 219, 209, 161, 179, 225, 313, 287, 319, 314, 310, 275, 310, 309, 309, 305, 275, 251, 258, 263, 312, 316, 257, 313, 292, 295, 308, 258, 287, 258, 252, 251, 240, 243, 253, 318, 287, 253, 298, 270, 310, 305, 287, 305, 266, 244, 271, 287, 275, 302, 287, 251, 318, 277, 274, 281, 311, 272, 280, 249, 266, 297, 292, 265, 314, 260, 305, 277, 306, 245, 300, 319, 307, 319, 285, 277, 313, 286, 290, 300, 307, 255, 298, 308, 245, 241, 297, 297, 313, 277, 278, 248, 271, 270, 295, 309, 293, 291, 262, 318, 242, 289, 257, 305, 243, 313]\n"
     ]
    }
   ],
   "source": [
    "datalist = []\n",
    "for i in range (1, 4):\n",
    "    data = randint(i * 80, (i + 1) *80, 100)\n",
    "    datalist.extend(data)\n",
    "print datalist"
   ]
  },
  {
   "cell_type": "code",
   "execution_count": 33,
   "metadata": {
    "collapsed": true
   },
   "outputs": [],
   "source": [
    "plt.hist(datalist, bins =100)\n",
    "plt.show()"
   ]
  },
  {
   "cell_type": "code",
   "execution_count": 20,
   "metadata": {
    "collapsed": true
   },
   "outputs": [],
   "source": [
    "numclass = 3"
   ]
  },
  {
   "cell_type": "code",
   "execution_count": 34,
   "metadata": {
    "collapsed": false
   },
   "outputs": [],
   "source": [
    "def getJenksBreaks(datalist, numclass):\n",
    "    datalist.sort()\n",
    "    mat1 = []\n",
    "    for i in range(0, len(datalist) + 1):\n",
    "        temp = []\n",
    "        for j in range(0, numclass + 1):\n",
    "            temp.append(0)\n",
    "        mat1.append(temp)\n",
    "    #print mat1\n",
    "\n",
    "    mat2 = []\n",
    "    for i in range(0, len(datalist) + 1):\n",
    "        temp = []\n",
    "        for j in range(0, numclass + 1):\n",
    "            temp.append(0)\n",
    "        mat2.append(temp)\n",
    "\n",
    "    for i in range(1, numclass + 1):\n",
    "        mat1[1][i] = 1\n",
    "        mat2[1][i] = 0\n",
    "        for j in range(2, len(datalist) + 1):\n",
    "            mat2[j][i] = float('inf')\n",
    "    # print mat2\n",
    "\n",
    "    v = 0.0\n",
    "    for l in range(2, len(datalist) + 1):\n",
    "        s1 = 0.0\n",
    "        s2 = 0.0\n",
    "        w = 0.0\n",
    "        for m in range(1, l + 1):\n",
    "            i3 = l - m + 1\n",
    "            val = float(datalist[i3 - 1])\n",
    "            s1 += val\n",
    "            s2 += val * val\n",
    "            w += 1\n",
    "            v = s2 - (s1 * s1)/w\n",
    "            i4 = i3 - 1\n",
    "            if i4 != 0:\n",
    "                for j in range(2, numclass +1):\n",
    "                    if mat2[l][j] >= (v + mat2[i4][j - 1]):\n",
    "                        mat1[i][j] = i3\n",
    "                        mat2[l][j] = v + mat2[i4][j - 1]\n",
    "        mat1[l][1] = 1\n",
    "        mat2[l][1] = v\n",
    "    #print mat2\n",
    "\n",
    "    k = len(datalist)\n",
    "    kclass = []\n",
    "    for i in range(0, numclass + 1):\n",
    "        kclass.append(0)\n",
    "    kclass[numclass] = float(datalist[len(datalist) - 1])\n",
    "    countNum = numclass\n",
    "\n",
    "    while countNum >=2:\n",
    "        id = int((mat1[k][countNum]) - 2)\n",
    "        kclass[countNum - 1] = datalist[id]\n",
    "        k = int((mat1[k][countNum] - 1))\n",
    "        countNum -= 1\n",
    "    return kclass    "
   ]
  },
  {
   "cell_type": "code",
   "execution_count": 49,
   "metadata": {
    "collapsed": false
   },
   "outputs": [
    {
     "name": "stdout",
     "output_type": "stream",
     "text": [
      "298\n",
      "297\n",
      "[]\n"
     ]
    }
   ],
   "source": [
    "# the goodness of variance fit (GVF) is calculated by taking the difference between the squared deviations from the array mean(SDAM)\n",
    "# and the squared deviations from the class means (SDCM) and dividing by the SDAM\n",
    "\n",
    "breaks = getJenksBreaks(datalist, numclass)\n",
    "datalist.sort()\n",
    "listMean = sum(datalist) / len(datalist)\n",
    "#print listMean\n",
    "SDAM = 0.0\n",
    "for i in range(0, len(datalist)):\n",
    "    sqDev = (datalist[i] - listMean)**2\n",
    "    SDAM += sqDev\n",
    "SDCM = 0.0\n",
    "for i in range(0, numclass):\n",
    "    if breaks[i] == 0:\n",
    "        classStart = 0\n",
    "    else:\n",
    "        classStart = datalist.index(breaks[i])\n",
    "        classStart += 1\n",
    "    classEnd = datalist.index(breaks[i + 1])\n",
    "    classList = datalist[classStart : classEnd + 1]\n",
    "#    classMean = sum(classList) / len(classList)    \n",
    "#    preSDCM = 0.0\n",
    "#    for j in range(0, len(classList)):\n",
    "#        sqDev2 = (classList[j] - classMean)**2\n",
    "#        preSDCM += sqDev2\n",
    "#        SDCM += preSDCM\n",
    "\n",
    "print classStart\n",
    "print classEnd\n",
    "print classList\n",
    "#print classMean\n",
    "#print (SDAM - SDCM) / SDAM\n"
   ]
  },
  {
   "cell_type": "code",
   "execution_count": null,
   "metadata": {
    "collapsed": true
   },
   "outputs": [],
   "source": []
  }
 ],
 "metadata": {
  "kernelspec": {
   "display_name": "Python 2",
   "language": "python",
   "name": "python2"
  },
  "language_info": {
   "codemirror_mode": {
    "name": "ipython",
    "version": 2
   },
   "file_extension": ".py",
   "mimetype": "text/x-python",
   "name": "python",
   "nbconvert_exporter": "python",
   "pygments_lexer": "ipython2",
   "version": "2.7.10"
  }
 },
 "nbformat": 4,
 "nbformat_minor": 0
}
